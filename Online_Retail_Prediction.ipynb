{
  "nbformat": 4,
  "nbformat_minor": 0,
  "metadata": {
    "colab": {
      "provenance": [],
      "authorship_tag": "ABX9TyOuA0DT8D9t4mCzBvg61vj+",
      "include_colab_link": true
    },
    "kernelspec": {
      "name": "python3",
      "display_name": "Python 3"
    },
    "language_info": {
      "name": "python"
    }
  },
  "cells": [
    {
      "cell_type": "markdown",
      "metadata": {
        "id": "view-in-github",
        "colab_type": "text"
      },
      "source": [
        "<a href=\"https://colab.research.google.com/github/Payamfarahmand/Online_Retail_Prediction/blob/main/Online_Retail_Prediction.ipynb\" target=\"_parent\"><img src=\"https://colab.research.google.com/assets/colab-badge.svg\" alt=\"Open In Colab\"/></a>"
      ]
    },
    {
      "cell_type": "code",
      "source": [
        "# Importing the necessary libraries\n",
        "import pandas as pd\n",
        "import numpy as np\n",
        "import seaborn as sns\n",
        "\n",
        "# Define the file path\n",
        "file_path = '/content/sample_data/project1/online_retail.csv'\n",
        "\n",
        "# Load the CSV file\n",
        "data = pd.read_csv(file_path)\n",
        "\n",
        "# Display general information\n",
        "print(data.info())\n",
        "print(data.describe())\n",
        "print(data.head())\n",
        "\n",
        "\n",
        "\n"
      ],
      "metadata": {
        "colab": {
          "base_uri": "https://localhost:8080/"
        },
        "id": "1kRiR0_SrGFQ",
        "outputId": "aaf5782c-521b-462c-dbc7-d0df083925a1"
      },
      "execution_count": 9,
      "outputs": [
        {
          "output_type": "stream",
          "name": "stdout",
          "text": [
            "<class 'pandas.core.frame.DataFrame'>\n",
            "RangeIndex: 541909 entries, 0 to 541908\n",
            "Data columns (total 8 columns):\n",
            " #   Column       Non-Null Count   Dtype  \n",
            "---  ------       --------------   -----  \n",
            " 0   InvoiceNo    541909 non-null  object \n",
            " 1   StockCode    541909 non-null  object \n",
            " 2   Description  540455 non-null  object \n",
            " 3   Quantity     541909 non-null  int64  \n",
            " 4   InvoiceDate  541909 non-null  object \n",
            " 5   UnitPrice    541909 non-null  float64\n",
            " 6   CustomerID   406829 non-null  float64\n",
            " 7   Country      541909 non-null  object \n",
            "dtypes: float64(2), int64(1), object(5)\n",
            "memory usage: 33.1+ MB\n",
            "None\n",
            "            Quantity      UnitPrice     CustomerID\n",
            "count  541909.000000  541909.000000  406829.000000\n",
            "mean        9.552250       4.611114   15287.690570\n",
            "std       218.081158      96.759853    1713.600303\n",
            "min    -80995.000000  -11062.060000   12346.000000\n",
            "25%         1.000000       1.250000   13953.000000\n",
            "50%         3.000000       2.080000   15152.000000\n",
            "75%        10.000000       4.130000   16791.000000\n",
            "max     80995.000000   38970.000000   18287.000000\n",
            "  InvoiceNo StockCode                          Description  Quantity  \\\n",
            "0    536365    85123A   WHITE HANGING HEART T-LIGHT HOLDER         6   \n",
            "1    536365     71053                  WHITE METAL LANTERN         6   \n",
            "2    536365    84406B       CREAM CUPID HEARTS COAT HANGER         8   \n",
            "3    536365    84029G  KNITTED UNION FLAG HOT WATER BOTTLE         6   \n",
            "4    536365    84029E       RED WOOLLY HOTTIE WHITE HEART.         6   \n",
            "\n",
            "           InvoiceDate  UnitPrice  CustomerID         Country  \n",
            "0  2010-12-01 08:26:00       2.55     17850.0  United Kingdom  \n",
            "1  2010-12-01 08:26:00       3.39     17850.0  United Kingdom  \n",
            "2  2010-12-01 08:26:00       2.75     17850.0  United Kingdom  \n",
            "3  2010-12-01 08:26:00       3.39     17850.0  United Kingdom  \n",
            "4  2010-12-01 08:26:00       3.39     17850.0  United Kingdom  \n"
          ]
        }
      ]
    },
    {
      "cell_type": "code",
      "source": [
        "# Drop duplicate rows\n",
        "data.drop_duplicates(inplace=True)"
      ],
      "metadata": {
        "id": "y9ZQlf0-3GwE"
      },
      "execution_count": 10,
      "outputs": []
    },
    {
      "cell_type": "code",
      "source": [
        "# Check for missing values\n",
        "print(data.isnull().sum())\n",
        "\n",
        "# Drop rows with missing values in key columns (e.g., CustomerID)\n",
        "data.dropna(subset=['CustomerID'], inplace=True)\n",
        "\n",
        "# Fill remaining missing values, if applicable (e.g., fill with median for numerical columns)\n",
        "data['Quantity'].fillna(data['Quantity'].median(), inplace=True)\n",
        "data['UnitPrice'].fillna(data['UnitPrice'].median(), inplace=True)\n"
      ],
      "metadata": {
        "colab": {
          "base_uri": "https://localhost:8080/"
        },
        "id": "61fay4cr3OPU",
        "outputId": "ce2ac537-ed0e-4025-9a19-446149ac9656"
      },
      "execution_count": 11,
      "outputs": [
        {
          "output_type": "stream",
          "name": "stdout",
          "text": [
            "InvoiceNo           0\n",
            "StockCode           0\n",
            "Description      1454\n",
            "Quantity            0\n",
            "InvoiceDate         0\n",
            "UnitPrice           0\n",
            "CustomerID     135037\n",
            "Country             0\n",
            "dtype: int64\n"
          ]
        },
        {
          "output_type": "stream",
          "name": "stderr",
          "text": [
            "<ipython-input-11-9e148571bea8>:8: FutureWarning: A value is trying to be set on a copy of a DataFrame or Series through chained assignment using an inplace method.\n",
            "The behavior will change in pandas 3.0. This inplace method will never work because the intermediate object on which we are setting values always behaves as a copy.\n",
            "\n",
            "For example, when doing 'df[col].method(value, inplace=True)', try using 'df.method({col: value}, inplace=True)' or df[col] = df[col].method(value) instead, to perform the operation inplace on the original object.\n",
            "\n",
            "\n",
            "  data['Quantity'].fillna(data['Quantity'].median(), inplace=True)\n",
            "<ipython-input-11-9e148571bea8>:9: FutureWarning: A value is trying to be set on a copy of a DataFrame or Series through chained assignment using an inplace method.\n",
            "The behavior will change in pandas 3.0. This inplace method will never work because the intermediate object on which we are setting values always behaves as a copy.\n",
            "\n",
            "For example, when doing 'df[col].method(value, inplace=True)', try using 'df.method({col: value}, inplace=True)' or df[col] = df[col].method(value) instead, to perform the operation inplace on the original object.\n",
            "\n",
            "\n",
            "  data['UnitPrice'].fillna(data['UnitPrice'].median(), inplace=True)\n"
          ]
        }
      ]
    },
    {
      "cell_type": "code",
      "source": [
        "# Remove rows where Quantity or UnitPrice is non-positive\n",
        "data = data[(data['Quantity'] > 0) & (data['UnitPrice'] > 0)]\n"
      ],
      "metadata": {
        "id": "vt0E8ZRg3brc"
      },
      "execution_count": 12,
      "outputs": []
    },
    {
      "cell_type": "code",
      "source": [
        "# Convert InvoiceDate to datetime\n",
        "data['InvoiceDate'] = pd.to_datetime(data['InvoiceDate'], errors='coerce')\n"
      ],
      "metadata": {
        "id": "A4wpreTf3hNj"
      },
      "execution_count": 13,
      "outputs": []
    },
    {
      "cell_type": "code",
      "source": [
        "# Add a TotalPrice column\n",
        "data['TotalPrice'] = data['Quantity'] * data['UnitPrice']\n",
        "\n",
        "# Extract PurchaseMonth for seasonal analysis\n",
        "data['PurchaseMonth'] = data['InvoiceDate'].dt.month\n"
      ],
      "metadata": {
        "id": "2bif9IdV3pEs"
      },
      "execution_count": 14,
      "outputs": []
    },
    {
      "cell_type": "code",
      "source": [
        "# Remove extreme outliers using the interquartile range (IQR) method\n",
        "Q1 = data['TotalPrice'].quantile(0.25)\n",
        "Q3 = data['TotalPrice'].quantile(0.75)\n",
        "IQR = Q3 - Q1\n",
        "data = data[(data['TotalPrice'] >= (Q1 - 1.5 * IQR)) & (data['TotalPrice'] <= (Q3 + 1.5 * IQR))]\n"
      ],
      "metadata": {
        "id": "-Wt7DmsK3q1k"
      },
      "execution_count": 15,
      "outputs": []
    },
    {
      "cell_type": "code",
      "source": [
        "# Final check\n",
        "print(data.info())\n",
        "print(data.head())\n"
      ],
      "metadata": {
        "colab": {
          "base_uri": "https://localhost:8080/"
        },
        "id": "_XpPMFHY3u68",
        "outputId": "9c5fe2d2-1bfc-4e53-e251-dc690c44eb81"
      },
      "execution_count": 16,
      "outputs": [
        {
          "output_type": "stream",
          "name": "stdout",
          "text": [
            "<class 'pandas.core.frame.DataFrame'>\n",
            "Index: 361461 entries, 0 to 541908\n",
            "Data columns (total 10 columns):\n",
            " #   Column         Non-Null Count   Dtype         \n",
            "---  ------         --------------   -----         \n",
            " 0   InvoiceNo      361461 non-null  object        \n",
            " 1   StockCode      361461 non-null  object        \n",
            " 2   Description    361461 non-null  object        \n",
            " 3   Quantity       361461 non-null  int64         \n",
            " 4   InvoiceDate    361461 non-null  datetime64[ns]\n",
            " 5   UnitPrice      361461 non-null  float64       \n",
            " 6   CustomerID     361461 non-null  float64       \n",
            " 7   Country        361461 non-null  object        \n",
            " 8   TotalPrice     361461 non-null  float64       \n",
            " 9   PurchaseMonth  361461 non-null  int32         \n",
            "dtypes: datetime64[ns](1), float64(3), int32(1), int64(1), object(4)\n",
            "memory usage: 29.0+ MB\n",
            "None\n",
            "  InvoiceNo StockCode                          Description  Quantity  \\\n",
            "0    536365    85123A   WHITE HANGING HEART T-LIGHT HOLDER         6   \n",
            "1    536365     71053                  WHITE METAL LANTERN         6   \n",
            "2    536365    84406B       CREAM CUPID HEARTS COAT HANGER         8   \n",
            "3    536365    84029G  KNITTED UNION FLAG HOT WATER BOTTLE         6   \n",
            "4    536365    84029E       RED WOOLLY HOTTIE WHITE HEART.         6   \n",
            "\n",
            "          InvoiceDate  UnitPrice  CustomerID         Country  TotalPrice  \\\n",
            "0 2010-12-01 08:26:00       2.55     17850.0  United Kingdom       15.30   \n",
            "1 2010-12-01 08:26:00       3.39     17850.0  United Kingdom       20.34   \n",
            "2 2010-12-01 08:26:00       2.75     17850.0  United Kingdom       22.00   \n",
            "3 2010-12-01 08:26:00       3.39     17850.0  United Kingdom       20.34   \n",
            "4 2010-12-01 08:26:00       3.39     17850.0  United Kingdom       20.34   \n",
            "\n",
            "   PurchaseMonth  \n",
            "0             12  \n",
            "1             12  \n",
            "2             12  \n",
            "3             12  \n",
            "4             12  \n"
          ]
        }
      ]
    },
    {
      "cell_type": "code",
      "source": [
        "# Ensure CustomerID is treated as an integer type (if no decimals are expected)\n",
        "data['CustomerID'] = data['CustomerID'].astype('Int64')\n",
        "\n",
        "# Ensure InvoiceNo and StockCode are strings, as they are typically identifiers\n",
        "data['InvoiceNo'] = data['InvoiceNo'].astype(str)\n",
        "data['StockCode'] = data['StockCode'].astype(str)\n",
        "\n",
        "# Recalculate TotalPrice to ensure it is accurate\n",
        "data['TotalPrice'] = data['Quantity'] * data['UnitPrice']\n",
        "\n",
        "# Check for any rows with non-positive Quantity or UnitPrice, then filter them out\n",
        "data = data[(data['Quantity'] > 0) & (data['UnitPrice'] > 0)]\n",
        "\n",
        "# Display updated information\n",
        "print(data.info())\n",
        "print(data.head())\n"
      ],
      "metadata": {
        "colab": {
          "base_uri": "https://localhost:8080/"
        },
        "id": "jW4Tbweu4XCd",
        "outputId": "9cccfe14-667a-462d-91d4-01d282649073"
      },
      "execution_count": 17,
      "outputs": [
        {
          "output_type": "stream",
          "name": "stdout",
          "text": [
            "<class 'pandas.core.frame.DataFrame'>\n",
            "Index: 361461 entries, 0 to 541908\n",
            "Data columns (total 10 columns):\n",
            " #   Column         Non-Null Count   Dtype         \n",
            "---  ------         --------------   -----         \n",
            " 0   InvoiceNo      361461 non-null  object        \n",
            " 1   StockCode      361461 non-null  object        \n",
            " 2   Description    361461 non-null  object        \n",
            " 3   Quantity       361461 non-null  int64         \n",
            " 4   InvoiceDate    361461 non-null  datetime64[ns]\n",
            " 5   UnitPrice      361461 non-null  float64       \n",
            " 6   CustomerID     361461 non-null  Int64         \n",
            " 7   Country        361461 non-null  object        \n",
            " 8   TotalPrice     361461 non-null  float64       \n",
            " 9   PurchaseMonth  361461 non-null  int32         \n",
            "dtypes: Int64(1), datetime64[ns](1), float64(2), int32(1), int64(1), object(4)\n",
            "memory usage: 29.3+ MB\n",
            "None\n",
            "  InvoiceNo StockCode                          Description  Quantity  \\\n",
            "0    536365    85123A   WHITE HANGING HEART T-LIGHT HOLDER         6   \n",
            "1    536365     71053                  WHITE METAL LANTERN         6   \n",
            "2    536365    84406B       CREAM CUPID HEARTS COAT HANGER         8   \n",
            "3    536365    84029G  KNITTED UNION FLAG HOT WATER BOTTLE         6   \n",
            "4    536365    84029E       RED WOOLLY HOTTIE WHITE HEART.         6   \n",
            "\n",
            "          InvoiceDate  UnitPrice  CustomerID         Country  TotalPrice  \\\n",
            "0 2010-12-01 08:26:00       2.55       17850  United Kingdom       15.30   \n",
            "1 2010-12-01 08:26:00       3.39       17850  United Kingdom       20.34   \n",
            "2 2010-12-01 08:26:00       2.75       17850  United Kingdom       22.00   \n",
            "3 2010-12-01 08:26:00       3.39       17850  United Kingdom       20.34   \n",
            "4 2010-12-01 08:26:00       3.39       17850  United Kingdom       20.34   \n",
            "\n",
            "   PurchaseMonth  \n",
            "0             12  \n",
            "1             12  \n",
            "2             12  \n",
            "3             12  \n",
            "4             12  \n"
          ]
        }
      ]
    },
    {
      "cell_type": "code",
      "source": [
        "# Define the file path for the output CSV file\n",
        "output_path = '/content/sample_data/project1/cleaned_online_retail.csv'\n",
        "\n",
        "# Export the cleaned data to a CSV file\n",
        "data.to_csv(output_path, index=False)\n",
        "\n",
        "print(f\"Cleaned data exported to {output_path}\")\n"
      ],
      "metadata": {
        "colab": {
          "base_uri": "https://localhost:8080/"
        },
        "id": "PlPQorTe4m3l",
        "outputId": "7f7b2f9f-bebd-449f-fa51-909281661dc6"
      },
      "execution_count": 18,
      "outputs": [
        {
          "output_type": "stream",
          "name": "stdout",
          "text": [
            "Cleaned data exported to /content/sample_data/project1/cleaned_online_retail.csv\n"
          ]
        }
      ]
    }
  ]
}